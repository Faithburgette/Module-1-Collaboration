{
 "cells": [
  {
   "cell_type": "code",
   "execution_count": 16,
   "id": "e44efeb9-1306-4664-ba81-56cd45e1b25d",
   "metadata": {},
   "outputs": [
    {
     "data": {
      "text/plain": [
       "3600"
      ]
     },
     "execution_count": 16,
     "metadata": {},
     "output_type": "execute_result"
    }
   ],
   "source": [
    "#3.1\n",
    "\n",
    "SECONDS_IN_MIN = 60\n",
    "MIN_IN_HOUR = 60\n",
    "\n",
    "SECONDS_IN_MIN * MIN_IN_HOUR"
   ]
  },
  {
   "cell_type": "code",
   "execution_count": 17,
   "id": "adc7dcf5-f598-4db4-9b38-56e4a2af182c",
   "metadata": {},
   "outputs": [
    {
     "name": "stdout",
     "output_type": "stream",
     "text": [
      "3600\n"
     ]
    }
   ],
   "source": [
    "#3.2\n",
    "\n",
    "seconds_per_hour = SECONDS_IN_MIN * MIN_IN_HOUR\n",
    "\n",
    "print(seconds_per_hour)"
   ]
  },
  {
   "cell_type": "code",
   "execution_count": 18,
   "id": "545c6ee1-46f7-4b31-812c-68c021a431f7",
   "metadata": {},
   "outputs": [
    {
     "data": {
      "text/plain": [
       "86400"
      ]
     },
     "execution_count": 18,
     "metadata": {},
     "output_type": "execute_result"
    }
   ],
   "source": [
    "#3.3\n",
    "\n",
    "HOURS_PER_DAY = 24\n",
    "seconds_per_hour * HOURS_PER_DAY"
   ]
  },
  {
   "cell_type": "code",
   "execution_count": 19,
   "id": "8ffa9284-45a8-401f-8a72-459565739c09",
   "metadata": {},
   "outputs": [
    {
     "name": "stdout",
     "output_type": "stream",
     "text": [
      "86400\n"
     ]
    }
   ],
   "source": [
    "#3.4\n",
    "\n",
    "seconds_per_day = seconds_per_hour * HOURS_PER_DAY\n",
    "\n",
    "print(seconds_per_day)"
   ]
  },
  {
   "cell_type": "code",
   "execution_count": 20,
   "id": "5bf5871e-bb1c-4fd8-8102-fe2a6a327bea",
   "metadata": {},
   "outputs": [
    {
     "data": {
      "text/plain": [
       "24.0"
      ]
     },
     "execution_count": 20,
     "metadata": {},
     "output_type": "execute_result"
    }
   ],
   "source": [
    "#3.5\n",
    "\n",
    "seconds_per_day / seconds_per_hour"
   ]
  },
  {
   "cell_type": "code",
   "execution_count": 21,
   "id": "572b891d-13d3-441b-b00d-8d3c7712fa2c",
   "metadata": {},
   "outputs": [
    {
     "data": {
      "text/plain": [
       "24"
      ]
     },
     "execution_count": 21,
     "metadata": {},
     "output_type": "execute_result"
    }
   ],
   "source": [
    "#3.6\n",
    "\n",
    "seconds_per_day // seconds_per_hour"
   ]
  }
 ],
 "metadata": {
  "kernelspec": {
   "display_name": "Python [conda env:base] *",
   "language": "python",
   "name": "conda-base-py"
  },
  "language_info": {
   "codemirror_mode": {
    "name": "ipython",
    "version": 3
   },
   "file_extension": ".py",
   "mimetype": "text/x-python",
   "name": "python",
   "nbconvert_exporter": "python",
   "pygments_lexer": "ipython3",
   "version": "3.12.7"
  }
 },
 "nbformat": 4,
 "nbformat_minor": 5
}
